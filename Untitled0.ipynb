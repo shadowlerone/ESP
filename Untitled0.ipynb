{
  "cells": [
    {
      "cell_type": "code",
      "execution_count": 1,
      "metadata": {
        "id": "WVjTREDrbf6m"
      },
      "outputs": [],
      "source": [
        "import pandas as pd\n",
        "import numpy as np\n",
        "import matplotlib.pyplot as plt\n",
        "import matplotlib\n",
        "from sklearn.preprocessing import LabelEncoder\n",
        "from sklearn.model_selection import train_test_split\n",
        "from keras.wrappers.scikit_learn import KerasClassifier\n",
        "from keras.utils import np_utils"
      ]
    },
    {
      "cell_type": "code",
      "execution_count": 2,
      "metadata": {
        "id": "GsnUfxqGbiGG"
      },
      "outputs": [],
      "source": [
        "from keras.models import Sequential\n",
        "from keras.layers import Dense, Dropout, Average, BatchNormalization\n",
        "from keras.callbacks import EarlyStopping"
      ]
    },
    {
      "cell_type": "code",
      "execution_count": 3,
      "metadata": {
        "id": "dM8chPiobkJu"
      },
      "outputs": [],
      "source": [
        "df = pd.read_csv('data.csv')\n"
      ]
    },
    {
      "cell_type": "code",
      "execution_count": 4,
      "metadata": {
        "colab": {
          "base_uri": "https://localhost:8080/"
        },
        "id": "hXmUh5HnblJH",
        "outputId": "960e9110-c9a3-45fa-f16f-5780fd9cb823"
      },
      "outputs": [
        {
          "name": "stdout",
          "output_type": "stream",
          "text": [
            "<class 'pandas.core.frame.DataFrame'>\n",
            "RangeIndex: 2017 entries, 0 to 2016\n",
            "Data columns (total 17 columns):\n",
            " #   Column            Non-Null Count  Dtype  \n",
            "---  ------            --------------  -----  \n",
            " 0   Unnamed: 0        2017 non-null   int64  \n",
            " 1   acousticness      2017 non-null   float64\n",
            " 2   danceability      2017 non-null   float64\n",
            " 3   duration_ms       2017 non-null   int64  \n",
            " 4   energy            2017 non-null   float64\n",
            " 5   instrumentalness  2017 non-null   float64\n",
            " 6   key               2017 non-null   int64  \n",
            " 7   liveness          2017 non-null   float64\n",
            " 8   loudness          2017 non-null   float64\n",
            " 9   mode              2017 non-null   int64  \n",
            " 10  speechiness       2017 non-null   float64\n",
            " 11  tempo             2017 non-null   float64\n",
            " 12  time_signature    2017 non-null   float64\n",
            " 13  valence           2017 non-null   float64\n",
            " 14  target            2017 non-null   int64  \n",
            " 15  song_title        2017 non-null   object \n",
            " 16  artist            2017 non-null   object \n",
            "dtypes: float64(10), int64(5), object(2)\n",
            "memory usage: 268.0+ KB\n"
          ]
        }
      ],
      "source": [
        "df.info()"
      ]
    },
    {
      "cell_type": "code",
      "execution_count": 5,
      "metadata": {
        "id": "1kvGM-izcC9q"
      },
      "outputs": [],
      "source": [
        "# variable filtering\n",
        "df.drop(['key'], axis=1, inplace=True)\n",
        "df.drop(['duration_ms'], axis=1, inplace=True)\n",
        "df.drop(['mode'], axis=1, inplace=True)\n",
        "df.drop(['song_title'], axis=1, inplace=True)\n",
        "df.drop(['artist'], axis=1, inplace=True)\n",
        "df.drop(['Unnamed: 0'], axis=1, inplace=True)\n",
        "df.drop(['tempo'], axis=1, inplace=True)"
      ]
    },
    {
      "cell_type": "code",
      "execution_count": 6,
      "metadata": {
        "colab": {
          "base_uri": "https://localhost:8080/"
        },
        "id": "J-cYHEZadcJd",
        "outputId": "d97c4cc0-ba13-42fc-eee2-a5cd0a986f7d"
      },
      "outputs": [
        {
          "name": "stdout",
          "output_type": "stream",
          "text": [
            "<class 'pandas.core.frame.DataFrame'>\n",
            "RangeIndex: 2017 entries, 0 to 2016\n",
            "Data columns (total 10 columns):\n",
            " #   Column            Non-Null Count  Dtype  \n",
            "---  ------            --------------  -----  \n",
            " 0   acousticness      2017 non-null   float64\n",
            " 1   danceability      2017 non-null   float64\n",
            " 2   energy            2017 non-null   float64\n",
            " 3   instrumentalness  2017 non-null   float64\n",
            " 4   liveness          2017 non-null   float64\n",
            " 5   loudness          2017 non-null   float64\n",
            " 6   speechiness       2017 non-null   float64\n",
            " 7   time_signature    2017 non-null   float64\n",
            " 8   valence           2017 non-null   float64\n",
            " 9   target            2017 non-null   int64  \n",
            "dtypes: float64(9), int64(1)\n",
            "memory usage: 157.7 KB\n"
          ]
        }
      ],
      "source": [
        "df.info()"
      ]
    },
    {
      "cell_type": "code",
      "execution_count": 7,
      "metadata": {
        "id": "37lnEZlYesWv"
      },
      "outputs": [],
      "source": [
        "# df['Unnamed: 0']"
      ]
    },
    {
      "cell_type": "code",
      "execution_count": 8,
      "metadata": {
        "id": "zZg9ZgBBhKZA"
      },
      "outputs": [],
      "source": [
        "# split into X and Y\n",
        "Y = df['target']\n",
        "X = df.drop(['target'], axis=1)\n",
        "\n",
        "X_train, X_test, Y_train, Y_test = train_test_split(X, Y, random_state=0)\n",
        "\n",
        "# print(X.shape)\n",
        "# print(Y.shape)\n",
        "\n",
        "# convert to numpy arrays\n",
        "# X = np.array(X)"
      ]
    },
    {
      "cell_type": "code",
      "execution_count": 9,
      "metadata": {
        "colab": {
          "base_uri": "https://localhost:8080/"
        },
        "id": "HK12I1vihVoY",
        "outputId": "0e409554-9836-457f-8115-308b2ffca2d4"
      },
      "outputs": [
        {
          "name": "stdout",
          "output_type": "stream",
          "text": [
            "Model: \"sequential\"\n",
            "_________________________________________________________________\n",
            " Layer (type)                Output Shape              Param #   \n",
            "=================================================================\n",
            " dense (Dense)               (None, 10)                100       \n",
            "                                                                 \n",
            " dense_1 (Dense)             (None, 10)                110       \n",
            "                                                                 \n",
            " dense_2 (Dense)             (None, 25)                275       \n",
            "                                                                 \n",
            " dropout (Dropout)           (None, 25)                0         \n",
            "                                                                 \n",
            " dense_3 (Dense)             (None, 10)                260       \n",
            "                                                                 \n",
            " dense_4 (Dense)             (None, 10)                110       \n",
            "                                                                 \n",
            " dense_5 (Dense)             (None, 10)                110       \n",
            "                                                                 \n",
            " dense_6 (Dense)             (None, 10)                110       \n",
            "                                                                 \n",
            " dense_7 (Dense)             (None, 10)                110       \n",
            "                                                                 \n",
            " dense_8 (Dense)             (None, 10)                110       \n",
            "                                                                 \n",
            " dropout_1 (Dropout)         (None, 10)                0         \n",
            "                                                                 \n",
            " dense_9 (Dense)             (None, 5)                 55        \n",
            "                                                                 \n",
            " dense_10 (Dense)            (None, 1)                 6         \n",
            "                                                                 \n",
            "=================================================================\n",
            "Total params: 1,356\n",
            "Trainable params: 1,356\n",
            "Non-trainable params: 0\n",
            "_________________________________________________________________\n"
          ]
        }
      ],
      "source": [
        "model = Sequential()\n",
        "model.add(Dense(10, input_shape=(X.shape[1],), activation='relu')) \n",
        "# Add an input shape! (features,)\n",
        "model.add(Dense(10, activation='relu'))\n",
        "# model.add(BatchNormalization())\n",
        "model.add(Dense(25, activation='relu'))\n",
        "model.add(Dropout(0.1))\n",
        "# model.add(Average(10, activation='relu'))\n",
        "model.add(Dense(10, activation='relu'))\n",
        "model.add(Dense(10, activation='softplus'))\n",
        "model.add(Dense(10, activation='relu'))\n",
        "model.add(Dense(10, activation='softplus'))\n",
        "model.add(Dense(10, activation='relu'))\n",
        "# for i in range(100):\n",
        "#   model.add(Dense(5, activation=\"softplus\"))\n",
        "model.add(Dense(10, activation='softmax'))\n",
        "\n",
        "model.add(Dropout(0.1))\n",
        "model.add(Dense(5, activation='relu'))\n",
        "model.add(Dense(1, activation='sigmoid'))\n",
        "model.summary()\n"
      ]
    },
    {
      "cell_type": "code",
      "execution_count": 10,
      "metadata": {
        "colab": {
          "base_uri": "https://localhost:8080/"
        },
        "id": "BOg3-DS-ha84",
        "outputId": "6ad5b3a3-f394-415b-cea6-37ec39ef162e"
      },
      "outputs": [
        {
          "name": "stdout",
          "output_type": "stream",
          "text": [
            "Epoch 1/500\n",
            "17/17 [==============================] - 1s 11ms/step - loss: 0.6972 - accuracy: 0.5029 - binary_accuracy: 0.5029 - val_loss: 0.6917 - val_accuracy: 0.5281 - val_binary_accuracy: 0.5281\n",
            "Epoch 2/500\n",
            "17/17 [==============================] - 0s 2ms/step - loss: 0.6953 - accuracy: 0.5021 - binary_accuracy: 0.5021 - val_loss: 0.6916 - val_accuracy: 0.5281 - val_binary_accuracy: 0.5281\n",
            "Epoch 3/500\n",
            "17/17 [==============================] - 0s 2ms/step - loss: 0.6940 - accuracy: 0.5004 - binary_accuracy: 0.5004 - val_loss: 0.6920 - val_accuracy: 0.5281 - val_binary_accuracy: 0.5281\n",
            "Epoch 4/500\n",
            "17/17 [==============================] - 0s 2ms/step - loss: 0.6950 - accuracy: 0.4839 - binary_accuracy: 0.4839 - val_loss: 0.6923 - val_accuracy: 0.5281 - val_binary_accuracy: 0.5281\n",
            "Epoch 5/500\n",
            "17/17 [==============================] - 0s 2ms/step - loss: 0.6933 - accuracy: 0.5037 - binary_accuracy: 0.5037 - val_loss: 0.6925 - val_accuracy: 0.5281 - val_binary_accuracy: 0.5281\n",
            "Epoch 6/500\n",
            "17/17 [==============================] - 0s 2ms/step - loss: 0.6935 - accuracy: 0.5070 - binary_accuracy: 0.5070 - val_loss: 0.6924 - val_accuracy: 0.5281 - val_binary_accuracy: 0.5281\n",
            "Epoch 7/500\n",
            "17/17 [==============================] - 0s 2ms/step - loss: 0.6929 - accuracy: 0.5112 - binary_accuracy: 0.5112 - val_loss: 0.6924 - val_accuracy: 0.5281 - val_binary_accuracy: 0.5281\n",
            "Epoch 8/500\n",
            "17/17 [==============================] - 0s 2ms/step - loss: 0.6934 - accuracy: 0.5037 - binary_accuracy: 0.5037 - val_loss: 0.6925 - val_accuracy: 0.5281 - val_binary_accuracy: 0.5281\n",
            "Epoch 9/500\n",
            "17/17 [==============================] - 0s 2ms/step - loss: 0.6936 - accuracy: 0.5062 - binary_accuracy: 0.5062 - val_loss: 0.6923 - val_accuracy: 0.5281 - val_binary_accuracy: 0.5281\n",
            "Epoch 10/500\n",
            "17/17 [==============================] - 0s 2ms/step - loss: 0.6938 - accuracy: 0.4979 - binary_accuracy: 0.4979 - val_loss: 0.6926 - val_accuracy: 0.5281 - val_binary_accuracy: 0.5281\n",
            "Epoch 11/500\n",
            "17/17 [==============================] - 0s 2ms/step - loss: 0.6941 - accuracy: 0.4822 - binary_accuracy: 0.4822 - val_loss: 0.6928 - val_accuracy: 0.5281 - val_binary_accuracy: 0.5281\n",
            "Epoch 12/500\n",
            "17/17 [==============================] - 0s 2ms/step - loss: 0.6929 - accuracy: 0.5120 - binary_accuracy: 0.5120 - val_loss: 0.6930 - val_accuracy: 0.5281 - val_binary_accuracy: 0.5281\n",
            "Epoch 13/500\n",
            "17/17 [==============================] - 0s 2ms/step - loss: 0.6933 - accuracy: 0.4938 - binary_accuracy: 0.4938 - val_loss: 0.6930 - val_accuracy: 0.5281 - val_binary_accuracy: 0.5281\n",
            "Epoch 14/500\n",
            "17/17 [==============================] - 0s 2ms/step - loss: 0.6935 - accuracy: 0.4822 - binary_accuracy: 0.4822 - val_loss: 0.6933 - val_accuracy: 0.4719 - val_binary_accuracy: 0.4719\n",
            "Epoch 15/500\n",
            "17/17 [==============================] - 0s 2ms/step - loss: 0.6930 - accuracy: 0.5037 - binary_accuracy: 0.5037 - val_loss: 0.6932 - val_accuracy: 0.4719 - val_binary_accuracy: 0.4719\n",
            "Epoch 16/500\n",
            "17/17 [==============================] - 0s 2ms/step - loss: 0.6931 - accuracy: 0.4830 - binary_accuracy: 0.4830 - val_loss: 0.6932 - val_accuracy: 0.4719 - val_binary_accuracy: 0.4719\n",
            "Epoch 17/500\n",
            "17/17 [==============================] - 0s 2ms/step - loss: 0.6932 - accuracy: 0.5037 - binary_accuracy: 0.5037 - val_loss: 0.6933 - val_accuracy: 0.4719 - val_binary_accuracy: 0.4719\n",
            "Epoch 18/500\n",
            "17/17 [==============================] - 0s 2ms/step - loss: 0.6938 - accuracy: 0.4781 - binary_accuracy: 0.4781 - val_loss: 0.6933 - val_accuracy: 0.4719 - val_binary_accuracy: 0.4719\n",
            "Epoch 19/500\n",
            "17/17 [==============================] - 0s 2ms/step - loss: 0.6936 - accuracy: 0.4739 - binary_accuracy: 0.4739 - val_loss: 0.6933 - val_accuracy: 0.4719 - val_binary_accuracy: 0.4719\n",
            "Epoch 20/500\n",
            "17/17 [==============================] - 0s 2ms/step - loss: 0.6934 - accuracy: 0.5062 - binary_accuracy: 0.5062 - val_loss: 0.6933 - val_accuracy: 0.4719 - val_binary_accuracy: 0.4719\n",
            "Epoch 21/500\n",
            "17/17 [==============================] - 0s 2ms/step - loss: 0.6935 - accuracy: 0.4897 - binary_accuracy: 0.4897 - val_loss: 0.6933 - val_accuracy: 0.4719 - val_binary_accuracy: 0.4719\n",
            "Epoch 22/500\n",
            "17/17 [==============================] - 0s 2ms/step - loss: 0.6930 - accuracy: 0.5029 - binary_accuracy: 0.5029 - val_loss: 0.6933 - val_accuracy: 0.4719 - val_binary_accuracy: 0.4719\n",
            "Epoch 23/500\n",
            "17/17 [==============================] - 0s 2ms/step - loss: 0.6931 - accuracy: 0.4996 - binary_accuracy: 0.4996 - val_loss: 0.6932 - val_accuracy: 0.4719 - val_binary_accuracy: 0.4719\n",
            "Epoch 24/500\n",
            "17/17 [==============================] - 0s 2ms/step - loss: 0.6930 - accuracy: 0.5112 - binary_accuracy: 0.5112 - val_loss: 0.6935 - val_accuracy: 0.4719 - val_binary_accuracy: 0.4719\n",
            "Epoch 25/500\n",
            "17/17 [==============================] - 0s 2ms/step - loss: 0.6931 - accuracy: 0.5070 - binary_accuracy: 0.5070 - val_loss: 0.6933 - val_accuracy: 0.4719 - val_binary_accuracy: 0.4719\n",
            "Epoch 26/500\n",
            "17/17 [==============================] - 0s 2ms/step - loss: 0.6933 - accuracy: 0.4996 - binary_accuracy: 0.4996 - val_loss: 0.6931 - val_accuracy: 0.4719 - val_binary_accuracy: 0.4719\n",
            "Epoch 27/500\n",
            "17/17 [==============================] - 0s 2ms/step - loss: 0.6931 - accuracy: 0.5327 - binary_accuracy: 0.5327 - val_loss: 0.6927 - val_accuracy: 0.6205 - val_binary_accuracy: 0.6205\n",
            "Epoch 28/500\n",
            "17/17 [==============================] - 0s 2ms/step - loss: 0.6928 - accuracy: 0.5252 - binary_accuracy: 0.5252 - val_loss: 0.6920 - val_accuracy: 0.6205 - val_binary_accuracy: 0.6205\n",
            "Epoch 29/500\n",
            "17/17 [==============================] - 0s 2ms/step - loss: 0.6912 - accuracy: 0.5806 - binary_accuracy: 0.5806 - val_loss: 0.6913 - val_accuracy: 0.6172 - val_binary_accuracy: 0.6172\n",
            "Epoch 30/500\n",
            "17/17 [==============================] - 0s 2ms/step - loss: 0.6908 - accuracy: 0.5757 - binary_accuracy: 0.5757 - val_loss: 0.6899 - val_accuracy: 0.6271 - val_binary_accuracy: 0.6271\n",
            "Epoch 31/500\n",
            "17/17 [==============================] - 0s 3ms/step - loss: 0.6893 - accuracy: 0.6038 - binary_accuracy: 0.6038 - val_loss: 0.6883 - val_accuracy: 0.6403 - val_binary_accuracy: 0.6403\n",
            "Epoch 32/500\n",
            "17/17 [==============================] - 0s 2ms/step - loss: 0.6865 - accuracy: 0.6427 - binary_accuracy: 0.6427 - val_loss: 0.6858 - val_accuracy: 0.6436 - val_binary_accuracy: 0.6436\n",
            "Epoch 33/500\n",
            "17/17 [==============================] - 0s 2ms/step - loss: 0.6782 - accuracy: 0.6419 - binary_accuracy: 0.6419 - val_loss: 0.6687 - val_accuracy: 0.6205 - val_binary_accuracy: 0.6205\n",
            "Epoch 34/500\n",
            "17/17 [==============================] - 0s 2ms/step - loss: 0.6636 - accuracy: 0.6510 - binary_accuracy: 0.6510 - val_loss: 0.6621 - val_accuracy: 0.6469 - val_binary_accuracy: 0.6469\n",
            "Epoch 35/500\n",
            "17/17 [==============================] - 0s 2ms/step - loss: 0.6572 - accuracy: 0.6510 - binary_accuracy: 0.6510 - val_loss: 0.6590 - val_accuracy: 0.6337 - val_binary_accuracy: 0.6337\n",
            "Epoch 36/500\n",
            "17/17 [==============================] - 0s 2ms/step - loss: 0.6540 - accuracy: 0.6427 - binary_accuracy: 0.6427 - val_loss: 0.6480 - val_accuracy: 0.6370 - val_binary_accuracy: 0.6370\n",
            "Epoch 37/500\n",
            "17/17 [==============================] - 0s 2ms/step - loss: 0.6419 - accuracy: 0.6650 - binary_accuracy: 0.6650 - val_loss: 0.6477 - val_accuracy: 0.6370 - val_binary_accuracy: 0.6370\n",
            "Epoch 38/500\n",
            "17/17 [==============================] - 0s 2ms/step - loss: 0.6374 - accuracy: 0.6758 - binary_accuracy: 0.6758 - val_loss: 0.6455 - val_accuracy: 0.6238 - val_binary_accuracy: 0.6238\n",
            "Epoch 39/500\n",
            "17/17 [==============================] - 0s 2ms/step - loss: 0.6334 - accuracy: 0.6650 - binary_accuracy: 0.6650 - val_loss: 0.6457 - val_accuracy: 0.6304 - val_binary_accuracy: 0.6304\n",
            "Epoch 40/500\n",
            "17/17 [==============================] - 0s 3ms/step - loss: 0.6337 - accuracy: 0.6700 - binary_accuracy: 0.6700 - val_loss: 0.6345 - val_accuracy: 0.6271 - val_binary_accuracy: 0.6271\n",
            "Epoch 41/500\n",
            "17/17 [==============================] - 0s 3ms/step - loss: 0.6288 - accuracy: 0.6683 - binary_accuracy: 0.6683 - val_loss: 0.6558 - val_accuracy: 0.6271 - val_binary_accuracy: 0.6271\n",
            "Epoch 42/500\n",
            "17/17 [==============================] - 0s 2ms/step - loss: 0.6291 - accuracy: 0.6667 - binary_accuracy: 0.6667 - val_loss: 0.6449 - val_accuracy: 0.6271 - val_binary_accuracy: 0.6271\n",
            "Epoch 43/500\n",
            "17/17 [==============================] - 0s 2ms/step - loss: 0.6256 - accuracy: 0.6642 - binary_accuracy: 0.6642 - val_loss: 0.6466 - val_accuracy: 0.6370 - val_binary_accuracy: 0.6370\n",
            "Epoch 44/500\n",
            "17/17 [==============================] - 0s 2ms/step - loss: 0.6182 - accuracy: 0.6816 - binary_accuracy: 0.6816 - val_loss: 0.6417 - val_accuracy: 0.6337 - val_binary_accuracy: 0.6337\n",
            "Epoch 45/500\n",
            "17/17 [==============================] - 0s 2ms/step - loss: 0.6087 - accuracy: 0.6898 - binary_accuracy: 0.6898 - val_loss: 0.6325 - val_accuracy: 0.6502 - val_binary_accuracy: 0.6502\n",
            "Epoch 46/500\n",
            "17/17 [==============================] - 0s 2ms/step - loss: 0.6106 - accuracy: 0.6907 - binary_accuracy: 0.6907 - val_loss: 0.6287 - val_accuracy: 0.6502 - val_binary_accuracy: 0.6502\n",
            "Epoch 47/500\n",
            "17/17 [==============================] - 0s 2ms/step - loss: 0.6083 - accuracy: 0.6923 - binary_accuracy: 0.6923 - val_loss: 0.6317 - val_accuracy: 0.6403 - val_binary_accuracy: 0.6403\n",
            "Epoch 48/500\n",
            "17/17 [==============================] - 0s 2ms/step - loss: 0.5958 - accuracy: 0.7006 - binary_accuracy: 0.7006 - val_loss: 0.6297 - val_accuracy: 0.6370 - val_binary_accuracy: 0.6370\n",
            "Epoch 49/500\n",
            "17/17 [==============================] - 0s 2ms/step - loss: 0.6055 - accuracy: 0.6840 - binary_accuracy: 0.6840 - val_loss: 0.6211 - val_accuracy: 0.6733 - val_binary_accuracy: 0.6733\n",
            "Epoch 50/500\n",
            "17/17 [==============================] - 0s 2ms/step - loss: 0.5941 - accuracy: 0.6956 - binary_accuracy: 0.6956 - val_loss: 0.6232 - val_accuracy: 0.6634 - val_binary_accuracy: 0.6634\n",
            "Epoch 51/500\n",
            "17/17 [==============================] - 0s 2ms/step - loss: 0.6087 - accuracy: 0.6882 - binary_accuracy: 0.6882 - val_loss: 0.6385 - val_accuracy: 0.6238 - val_binary_accuracy: 0.6238\n",
            "Epoch 52/500\n",
            "17/17 [==============================] - 0s 2ms/step - loss: 0.5989 - accuracy: 0.6816 - binary_accuracy: 0.6816 - val_loss: 0.6294 - val_accuracy: 0.6469 - val_binary_accuracy: 0.6469\n",
            "Epoch 53/500\n",
            "17/17 [==============================] - 0s 2ms/step - loss: 0.5995 - accuracy: 0.6865 - binary_accuracy: 0.6865 - val_loss: 0.6284 - val_accuracy: 0.6436 - val_binary_accuracy: 0.6436\n",
            "Epoch 54/500\n",
            "17/17 [==============================] - 0s 2ms/step - loss: 0.6023 - accuracy: 0.6849 - binary_accuracy: 0.6849 - val_loss: 0.6218 - val_accuracy: 0.6502 - val_binary_accuracy: 0.6502\n",
            "Epoch 55/500\n",
            "17/17 [==============================] - 0s 2ms/step - loss: 0.5889 - accuracy: 0.7039 - binary_accuracy: 0.7039 - val_loss: 0.6255 - val_accuracy: 0.6502 - val_binary_accuracy: 0.6502\n",
            "Epoch 56/500\n",
            "17/17 [==============================] - 0s 2ms/step - loss: 0.5943 - accuracy: 0.6857 - binary_accuracy: 0.6857 - val_loss: 0.6220 - val_accuracy: 0.6568 - val_binary_accuracy: 0.6568\n",
            "Epoch 57/500\n",
            "17/17 [==============================] - 0s 2ms/step - loss: 0.5896 - accuracy: 0.6890 - binary_accuracy: 0.6890 - val_loss: 0.6234 - val_accuracy: 0.6502 - val_binary_accuracy: 0.6502\n",
            "Epoch 58/500\n",
            "17/17 [==============================] - 0s 2ms/step - loss: 0.5992 - accuracy: 0.6816 - binary_accuracy: 0.6816 - val_loss: 0.6431 - val_accuracy: 0.6205 - val_binary_accuracy: 0.6205\n",
            "Epoch 59/500\n",
            "17/17 [==============================] - 0s 2ms/step - loss: 0.6012 - accuracy: 0.6807 - binary_accuracy: 0.6807 - val_loss: 0.6412 - val_accuracy: 0.6271 - val_binary_accuracy: 0.6271\n",
            "Epoch 60/500\n",
            "17/17 [==============================] - 0s 2ms/step - loss: 0.5887 - accuracy: 0.7006 - binary_accuracy: 0.7006 - val_loss: 0.6246 - val_accuracy: 0.6502 - val_binary_accuracy: 0.6502\n",
            "Epoch 61/500\n",
            "17/17 [==============================] - 0s 2ms/step - loss: 0.5971 - accuracy: 0.6907 - binary_accuracy: 0.6907 - val_loss: 0.6213 - val_accuracy: 0.6634 - val_binary_accuracy: 0.6634\n",
            "Epoch 62/500\n",
            "17/17 [==============================] - 0s 2ms/step - loss: 0.5881 - accuracy: 0.6956 - binary_accuracy: 0.6956 - val_loss: 0.6233 - val_accuracy: 0.6502 - val_binary_accuracy: 0.6502\n",
            "Epoch 63/500\n",
            "17/17 [==============================] - 0s 2ms/step - loss: 0.5906 - accuracy: 0.7031 - binary_accuracy: 0.7031 - val_loss: 0.6194 - val_accuracy: 0.6634 - val_binary_accuracy: 0.6634\n",
            "Epoch 64/500\n",
            "17/17 [==============================] - 0s 2ms/step - loss: 0.5871 - accuracy: 0.7039 - binary_accuracy: 0.7039 - val_loss: 0.6197 - val_accuracy: 0.6667 - val_binary_accuracy: 0.6667\n",
            "Epoch 65/500\n",
            "17/17 [==============================] - 0s 2ms/step - loss: 0.5871 - accuracy: 0.7022 - binary_accuracy: 0.7022 - val_loss: 0.6279 - val_accuracy: 0.6304 - val_binary_accuracy: 0.6304\n",
            "Epoch 66/500\n",
            "17/17 [==============================] - 0s 2ms/step - loss: 0.5897 - accuracy: 0.7006 - binary_accuracy: 0.7006 - val_loss: 0.6280 - val_accuracy: 0.6535 - val_binary_accuracy: 0.6535\n",
            "Epoch 67/500\n",
            "17/17 [==============================] - 0s 2ms/step - loss: 0.5921 - accuracy: 0.6857 - binary_accuracy: 0.6857 - val_loss: 0.6292 - val_accuracy: 0.6337 - val_binary_accuracy: 0.6337\n",
            "Epoch 68/500\n",
            "17/17 [==============================] - 0s 2ms/step - loss: 0.5875 - accuracy: 0.7039 - binary_accuracy: 0.7039 - val_loss: 0.6292 - val_accuracy: 0.6370 - val_binary_accuracy: 0.6370\n",
            "Epoch 69/500\n",
            "17/17 [==============================] - 0s 2ms/step - loss: 0.5834 - accuracy: 0.6923 - binary_accuracy: 0.6923 - val_loss: 0.6225 - val_accuracy: 0.6502 - val_binary_accuracy: 0.6502\n",
            "Epoch 70/500\n",
            "17/17 [==============================] - 0s 2ms/step - loss: 0.5876 - accuracy: 0.6973 - binary_accuracy: 0.6973 - val_loss: 0.6221 - val_accuracy: 0.6403 - val_binary_accuracy: 0.6403\n",
            "Epoch 71/500\n",
            "17/17 [==============================] - 0s 2ms/step - loss: 0.5773 - accuracy: 0.7113 - binary_accuracy: 0.7113 - val_loss: 0.6249 - val_accuracy: 0.6436 - val_binary_accuracy: 0.6436\n",
            "Epoch 72/500\n",
            "17/17 [==============================] - 0s 2ms/step - loss: 0.5866 - accuracy: 0.6931 - binary_accuracy: 0.6931 - val_loss: 0.6252 - val_accuracy: 0.6601 - val_binary_accuracy: 0.6601\n",
            "Epoch 73/500\n",
            "17/17 [==============================] - 0s 2ms/step - loss: 0.5830 - accuracy: 0.7022 - binary_accuracy: 0.7022 - val_loss: 0.6222 - val_accuracy: 0.6667 - val_binary_accuracy: 0.6667\n",
            "Epoch 74/500\n",
            "17/17 [==============================] - 0s 3ms/step - loss: 0.5898 - accuracy: 0.6882 - binary_accuracy: 0.6882 - val_loss: 0.6206 - val_accuracy: 0.6403 - val_binary_accuracy: 0.6403\n",
            "Epoch 75/500\n",
            "17/17 [==============================] - 0s 2ms/step - loss: 0.5805 - accuracy: 0.7138 - binary_accuracy: 0.7138 - val_loss: 0.6200 - val_accuracy: 0.6535 - val_binary_accuracy: 0.6535\n",
            "Epoch 76/500\n",
            "17/17 [==============================] - 0s 2ms/step - loss: 0.5784 - accuracy: 0.6940 - binary_accuracy: 0.6940 - val_loss: 0.6204 - val_accuracy: 0.6436 - val_binary_accuracy: 0.6436\n",
            "Epoch 77/500\n",
            "17/17 [==============================] - 0s 2ms/step - loss: 0.5803 - accuracy: 0.7064 - binary_accuracy: 0.7064 - val_loss: 0.6210 - val_accuracy: 0.6436 - val_binary_accuracy: 0.6436\n",
            "Epoch 78/500\n",
            "17/17 [==============================] - 0s 2ms/step - loss: 0.5803 - accuracy: 0.7031 - binary_accuracy: 0.7031 - val_loss: 0.6193 - val_accuracy: 0.6436 - val_binary_accuracy: 0.6436\n",
            "Epoch 79/500\n",
            "17/17 [==============================] - 0s 2ms/step - loss: 0.5823 - accuracy: 0.7089 - binary_accuracy: 0.7089 - val_loss: 0.6266 - val_accuracy: 0.6601 - val_binary_accuracy: 0.6601\n",
            "Epoch 80/500\n",
            "17/17 [==============================] - 0s 2ms/step - loss: 0.5867 - accuracy: 0.6998 - binary_accuracy: 0.6998 - val_loss: 0.6204 - val_accuracy: 0.6436 - val_binary_accuracy: 0.6436\n",
            "Epoch 81/500\n",
            "17/17 [==============================] - 0s 3ms/step - loss: 0.5729 - accuracy: 0.7179 - binary_accuracy: 0.7179 - val_loss: 0.6180 - val_accuracy: 0.6436 - val_binary_accuracy: 0.6436\n",
            "Epoch 82/500\n",
            "17/17 [==============================] - 0s 2ms/step - loss: 0.5756 - accuracy: 0.7031 - binary_accuracy: 0.7031 - val_loss: 0.6213 - val_accuracy: 0.6535 - val_binary_accuracy: 0.6535\n",
            "Epoch 83/500\n",
            "17/17 [==============================] - 0s 2ms/step - loss: 0.5751 - accuracy: 0.7097 - binary_accuracy: 0.7097 - val_loss: 0.6206 - val_accuracy: 0.6469 - val_binary_accuracy: 0.6469\n",
            "Epoch 84/500\n",
            "17/17 [==============================] - 0s 3ms/step - loss: 0.5749 - accuracy: 0.7130 - binary_accuracy: 0.7130 - val_loss: 0.6202 - val_accuracy: 0.6403 - val_binary_accuracy: 0.6403\n",
            "Epoch 85/500\n",
            "17/17 [==============================] - 0s 2ms/step - loss: 0.5747 - accuracy: 0.7072 - binary_accuracy: 0.7072 - val_loss: 0.6251 - val_accuracy: 0.6535 - val_binary_accuracy: 0.6535\n",
            "Epoch 86/500\n",
            "17/17 [==============================] - 0s 2ms/step - loss: 0.5848 - accuracy: 0.6890 - binary_accuracy: 0.6890 - val_loss: 0.6200 - val_accuracy: 0.6469 - val_binary_accuracy: 0.6469\n",
            "Epoch 87/500\n",
            "17/17 [==============================] - 0s 2ms/step - loss: 0.5736 - accuracy: 0.7138 - binary_accuracy: 0.7138 - val_loss: 0.6165 - val_accuracy: 0.6733 - val_binary_accuracy: 0.6733\n",
            "Epoch 88/500\n",
            "17/17 [==============================] - 0s 2ms/step - loss: 0.5786 - accuracy: 0.7113 - binary_accuracy: 0.7113 - val_loss: 0.6175 - val_accuracy: 0.6601 - val_binary_accuracy: 0.6601\n",
            "Epoch 89/500\n",
            "17/17 [==============================] - 0s 2ms/step - loss: 0.5713 - accuracy: 0.7196 - binary_accuracy: 0.7196 - val_loss: 0.6204 - val_accuracy: 0.6502 - val_binary_accuracy: 0.6502\n",
            "Epoch 90/500\n",
            "17/17 [==============================] - 0s 2ms/step - loss: 0.5730 - accuracy: 0.7122 - binary_accuracy: 0.7122 - val_loss: 0.6194 - val_accuracy: 0.6634 - val_binary_accuracy: 0.6634\n",
            "Epoch 91/500\n",
            "17/17 [==============================] - 0s 2ms/step - loss: 0.5759 - accuracy: 0.7146 - binary_accuracy: 0.7146 - val_loss: 0.6233 - val_accuracy: 0.6469 - val_binary_accuracy: 0.6469\n",
            "Epoch 92/500\n",
            "17/17 [==============================] - 0s 3ms/step - loss: 0.5725 - accuracy: 0.7039 - binary_accuracy: 0.7039 - val_loss: 0.6231 - val_accuracy: 0.6601 - val_binary_accuracy: 0.6601\n",
            "Epoch 93/500\n",
            "17/17 [==============================] - 0s 2ms/step - loss: 0.5713 - accuracy: 0.7155 - binary_accuracy: 0.7155 - val_loss: 0.6192 - val_accuracy: 0.6568 - val_binary_accuracy: 0.6568\n",
            "Epoch 94/500\n",
            "17/17 [==============================] - 0s 2ms/step - loss: 0.5830 - accuracy: 0.7113 - binary_accuracy: 0.7113 - val_loss: 0.6193 - val_accuracy: 0.6634 - val_binary_accuracy: 0.6634\n",
            "Epoch 95/500\n",
            "17/17 [==============================] - 0s 2ms/step - loss: 0.5823 - accuracy: 0.7113 - binary_accuracy: 0.7113 - val_loss: 0.6226 - val_accuracy: 0.6700 - val_binary_accuracy: 0.6700\n",
            "Epoch 96/500\n",
            "17/17 [==============================] - 0s 2ms/step - loss: 0.5797 - accuracy: 0.7122 - binary_accuracy: 0.7122 - val_loss: 0.6162 - val_accuracy: 0.6601 - val_binary_accuracy: 0.6601\n",
            "Epoch 97/500\n",
            "17/17 [==============================] - 0s 3ms/step - loss: 0.5736 - accuracy: 0.7039 - binary_accuracy: 0.7039 - val_loss: 0.6178 - val_accuracy: 0.6568 - val_binary_accuracy: 0.6568\n",
            "Epoch 98/500\n",
            "17/17 [==============================] - 0s 2ms/step - loss: 0.5773 - accuracy: 0.7080 - binary_accuracy: 0.7080 - val_loss: 0.6177 - val_accuracy: 0.6601 - val_binary_accuracy: 0.6601\n",
            "Epoch 99/500\n",
            "17/17 [==============================] - 0s 3ms/step - loss: 0.5743 - accuracy: 0.7105 - binary_accuracy: 0.7105 - val_loss: 0.6199 - val_accuracy: 0.6469 - val_binary_accuracy: 0.6469\n"
          ]
        }
      ],
      "source": [
        "model.compile(optimizer='Adam', \n",
        "              loss='binary_crossentropy',\n",
        "              metrics=['accuracy','BinaryAccuracy'])\n",
        "\n",
        "\n",
        "\n",
        "# early stopping callback\n",
        "# This callback will stop the training when there is no improvement in  \n",
        "# the validation loss for 10 consecutive epochs.  \n",
        "es = EarlyStopping(monitor='val_binary_accuracy', \n",
        "                                   mode='max', # don't minimize the accuracy!\n",
        "                                   patience=50,\n",
        "                                   restore_best_weights=True)\n",
        "\n",
        "# now we just update our model fit call\n",
        "history = model.fit(X_train,\n",
        "                    Y_train,\n",
        "                    callbacks=[es],\n",
        "                    epochs=500, # you can set this to a big number!\n",
        "                    batch_size=75,\n",
        "                    validation_split=0.2,\n",
        "                    shuffle=True,\n",
        "                    # verbose=1\n",
        "                    )"
      ]
    },
    {
      "cell_type": "code",
      "execution_count": 11,
      "metadata": {
        "colab": {
          "base_uri": "https://localhost:8080/",
          "height": 527
        },
        "id": "Nlv8vMrVhiKz",
        "outputId": "3bea6528-f236-4964-9e83-94c35ce36ec4"
      },
      "outputs": [
        {
          "data": {
            "image/png": "[encoded data removed]",
            "text/plain": [
              "<Figure size 432x288 with 1 Axes>"
            ]
          },
          "metadata": {
            "needs_background": "light"
          },
          "output_type": "display_data"
        }
      ],
      "source": [
        "history_dict = history.history\n",
        "# Learning curve(Loss)\n",
        "# let's see the training and validation loss by epoch\n",
        "\n",
        "# loss\n",
        "loss_values = history_dict['loss']\n",
        "val_loss_values = history_dict['val_loss']\n",
        "val_accuracy = history_dict['val_binary_accuracy']\n",
        "\n",
        "# range of X (no. of epochs)\n",
        "epochs = range(1, len(loss_values) + 1) \n",
        "\n",
        "# plot\n",
        "plt.plot(epochs, loss_values, 'bo', label='Training loss')\n",
        "plt.plot(epochs, val_loss_values, 'orange', label='Validation loss')\n",
        "plt.plot(epochs, val_accuracy, 'red', label='Validation Accuracy')\n",
        "plt.title('Training and validation loss')\n",
        "plt.xlabel('Epochs')\n",
        "plt.ylabel('Loss')\n",
        "plt.legend()\n",
        "\n",
        "plt.show()"
      ]
    },
    {
      "cell_type": "code",
      "execution_count": 12,
      "metadata": {
        "id": "RjGLCup_kokJ"
      },
      "outputs": [],
      "source": [
        "from sklearn.metrics import confusion_matrix\n",
        "from sklearn.metrics import classification_report"
      ]
    },
    {
      "cell_type": "code",
      "execution_count": 13,
      "metadata": {},
      "outputs": [],
      "source": [
        "def test(X, Y):\n",
        "\tpreds = np.round(model.predict(X),0)\n",
        "\n",
        "\t# confusion matrix\n",
        "\tprint(confusion_matrix(Y, preds)) # order matters! (actual, predicted)\n",
        "\n",
        "\t## array([[490,  59],   ([[TN, FP],\n",
        "\t##       [105, 235]])     [Fn, TP]])\n",
        "\n",
        "\tprint(classification_report(Y, preds))"
      ]
    },
    {
      "cell_type": "code",
      "execution_count": 14,
      "metadata": {
        "id": "rWBdJqAsmQiE"
      },
      "outputs": [
        {
          "name": "stdout",
          "output_type": "stream",
          "text": [
            "[[196  56]\n",
            " [ 98 155]]\n",
            "              precision    recall  f1-score   support\n",
            "\n",
            "           0       0.67      0.78      0.72       252\n",
            "           1       0.73      0.61      0.67       253\n",
            "\n",
            "    accuracy                           0.70       505\n",
            "   macro avg       0.70      0.70      0.69       505\n",
            "weighted avg       0.70      0.70      0.69       505\n",
            "\n"
          ]
        }
      ],
      "source": [
        "test(X_test, Y_test)"
      ]
    },
    {
      "cell_type": "code",
      "execution_count": 15,
      "metadata": {
        "id": "weLE9bEeoiQO"
      },
      "outputs": [
        {
          "name": "stdout",
          "output_type": "stream",
          "text": [
            "[[574 171]\n",
            " [296 471]]\n",
            "              precision    recall  f1-score   support\n",
            "\n",
            "           0       0.66      0.77      0.71       745\n",
            "           1       0.73      0.61      0.67       767\n",
            "\n",
            "    accuracy                           0.69      1512\n",
            "   macro avg       0.70      0.69      0.69      1512\n",
            "weighted avg       0.70      0.69      0.69      1512\n",
            "\n"
          ]
        }
      ],
      "source": [
        "test(X_train, Y_train)"
      ]
    },
    {
      "cell_type": "code",
      "execution_count": 16,
      "metadata": {},
      "outputs": [
        {
          "name": "stdout",
          "output_type": "stream",
          "text": [
            "[[770 227]\n",
            " [394 626]]\n",
            "              precision    recall  f1-score   support\n",
            "\n",
            "           0       0.66      0.77      0.71       997\n",
            "           1       0.73      0.61      0.67      1020\n",
            "\n",
            "    accuracy                           0.69      2017\n",
            "   macro avg       0.70      0.69      0.69      2017\n",
            "weighted avg       0.70      0.69      0.69      2017\n",
            "\n"
          ]
        }
      ],
      "source": [
        "test(X,Y)"
      ]
    }
  ],
  "metadata": {
    "colab": {
      "collapsed_sections": [],
      "name": "Untitled0.ipynb",
      "provenance": []
    },
    "kernelspec": {
      "display_name": "Python 3",
      "name": "python3"
    },
    "language_info": {
      "codemirror_mode": {
        "name": "ipython",
        "version": 3
      },
      "file_extension": ".py",
      "mimetype": "text/x-python",
      "name": "python",
      "nbconvert_exporter": "python",
      "pygments_lexer": "ipython3",
      "version": "3.9.5"
    }
  },
  "nbformat": 4,
  "nbformat_minor": 0
}
